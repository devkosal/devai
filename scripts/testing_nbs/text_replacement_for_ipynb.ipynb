{
 "cells": [
  {
   "cell_type": "code",
   "execution_count": 65,
   "metadata": {
    "ExecuteTime": {
     "end_time": "2020-01-06T21:08:25.672202Z",
     "start_time": "2020-01-06T21:08:25.303413Z"
    }
   },
   "outputs": [],
   "source": [
    "import transformers"
   ]
  },
  {
   "cell_type": "code",
   "execution_count": 76,
   "metadata": {
    "ExecuteTime": {
     "end_time": "2020-01-06T21:18:45.865358Z",
     "start_time": "2020-01-06T21:18:45.858067Z"
    }
   },
   "outputs": [],
   "source": [
    "import fire, re, glob, os, json\n",
    "from pathlib import Path\n",
    "\n",
    "def get_files(f):\n",
    "    f = Path(f)\n",
    "    if not Path.is_file(f):\n",
    "        os.chdir(f) # must change working dir as glob does not have dir agr\n",
    "        f = glob.iglob(\"**/*.ipynb\", recursive=True)\n",
    "        return list(f)\n",
    "    return [f]\n",
    "\n",
    "def replacer(directory, pattern, replacement):\n",
    "    files = get_files(directory)\n",
    "    for fname in files:   \n",
    "        with open(fname, \"r\") as f_in:\n",
    "            data = json.load(f_in)\n",
    "            for cell in data[\"cells\"]:\n",
    "                if cell[\"cell_type\"] == \"code\":\n",
    "                    cell[\"source\"] = [re.sub(pattern,replacement,line) for line in cell[\"source\"]]\n",
    "    \n",
    "        # dump json to another file\n",
    "        with open(fname, \"w\") as f_out:\n",
    "            f_out.write(json.dumps(data))"
   ]
  },
  {
   "cell_type": "markdown",
   "metadata": {},
   "source": [
    "## Testing"
   ]
  },
  {
   "cell_type": "code",
   "execution_count": 77,
   "metadata": {
    "ExecuteTime": {
     "end_time": "2020-01-06T21:18:46.479701Z",
     "start_time": "2020-01-06T21:18:46.471773Z"
    }
   },
   "outputs": [],
   "source": [
    "replacer(\"dummy.ipynb\",\"pytorch_transformers\",\"transformers\")"
   ]
  },
  {
   "cell_type": "code",
   "execution_count": null,
   "metadata": {},
   "outputs": [],
   "source": [
    "replacer(\".\",\"pytorch_transformers\",\"transformers\")"
   ]
  },
  {
   "cell_type": "code",
   "execution_count": 71,
   "metadata": {
    "ExecuteTime": {
     "end_time": "2020-01-06T21:14:06.122590Z",
     "start_time": "2020-01-06T21:14:06.104885Z"
    }
   },
   "outputs": [
    {
     "data": {
      "text/plain": [
       "{'cell_type': 'code',\n",
       " 'execution_count': 65,\n",
       " 'metadata': {'ExecuteTime': {'end_time': '2020-01-06T21:08:25.672202Z',\n",
       "   'start_time': '2020-01-06T21:08:25.303413Z'}},\n",
       " 'outputs': [],\n",
       " 'source': ['import pytorch_transformers']}"
      ]
     },
     "execution_count": 71,
     "metadata": {},
     "output_type": "execute_result"
    }
   ],
   "source": [
    "replacer(\"dummy.ipynb\",None,None)"
   ]
  },
  {
   "cell_type": "code",
   "execution_count": null,
   "metadata": {},
   "outputs": [],
   "source": []
  }
 ],
 "metadata": {
  "kernelspec": {
   "display_name": "Python 3",
   "language": "python",
   "name": "python3"
  },
  "language_info": {
   "codemirror_mode": {
    "name": "ipython",
    "version": 3
   },
   "file_extension": ".py",
   "mimetype": "text/x-python",
   "name": "python",
   "nbconvert_exporter": "python",
   "pygments_lexer": "ipython3",
   "version": "3.7.3"
  }
 },
 "nbformat": 4,
 "nbformat_minor": 2
}
